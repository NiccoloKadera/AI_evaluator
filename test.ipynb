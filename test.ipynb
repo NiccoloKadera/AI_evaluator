{
 "cells": [
  {
   "cell_type": "code",
   "execution_count": null,
   "id": "22bec0b3",
   "metadata": {},
   "outputs": [],
   "source": [
    "import sys\n",
    "sys.path.append('model')\n",
    "from model.parameters import Par\n",
    "from model.MODEL import Model\n",
    "\n",
    "\n",
    "\n",
    "par = Par()\n",
    "m = Model(par)\n",
    "\n"
   ]
  }
 ],
 "metadata": {
  "kernelspec": {
   "display_name": "venv",
   "language": "python",
   "name": "python3"
  },
  "language_info": {
   "name": "python",
   "version": "3.13.3"
  }
 },
 "nbformat": 4,
 "nbformat_minor": 5
}
