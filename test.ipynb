{
 "cells": [
  {
   "cell_type": "code",
   "execution_count": 1,
   "id": "22bec0b3",
   "metadata": {},
   "outputs": [],
   "source": [
    "import sys\n",
    "sys.path.append('model')\n",
    "from model.parameters import Par\n",
    "from model.MODEL import Model\n",
    "\n",
    "\n",
    "\n",
    "par = Par()\n",
    "m = Model(par)\n",
    "\n"
   ]
  }
 ],
 "metadata": {
  "language_info": {
   "name": "python"
  }
 },
 "nbformat": 4,
 "nbformat_minor": 5
}
